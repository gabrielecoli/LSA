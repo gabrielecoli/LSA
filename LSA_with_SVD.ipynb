{
 "cells": [
  {
   "cell_type": "markdown",
   "metadata": {},
   "source": [
    "# Latent Sentiment Analysis\n",
    "In this notebook we provide an example of the **Latent Sentiment Analysis (LSA)** applied to the problem of finding similarities between different documents. In particular, we will consider the abstracts of the technical chapters of my PhD thesis."
   ]
  },
  {
   "cell_type": "code",
   "execution_count": 1,
   "metadata": {},
   "outputs": [
    {
     "name": "stderr",
     "output_type": "stream",
     "text": [
      "/opt/anaconda3/lib/python3.7/site-packages/sklearn/feature_extraction/image.py:167: DeprecationWarning: `np.int` is a deprecated alias for the builtin `int`. To silence this warning, use `int` by itself. Doing this will not modify any behavior and is safe. When replacing `np.int`, you may wish to use e.g. `np.int64` or `np.int32` to specify the precision. If you wish to review your current use, check the release note link for additional information.\n",
      "Deprecated in NumPy 1.20; for more details and guidance: https://numpy.org/devdocs/release/1.20.0-notes.html#deprecations\n",
      "  dtype=np.int):\n",
      "/opt/anaconda3/lib/python3.7/site-packages/sklearn/linear_model/least_angle.py:30: DeprecationWarning: `np.float` is a deprecated alias for the builtin `float`. To silence this warning, use `float` by itself. Doing this will not modify any behavior and is safe. If you specifically wanted the numpy scalar type, use `np.float64` here.\n",
      "Deprecated in NumPy 1.20; for more details and guidance: https://numpy.org/devdocs/release/1.20.0-notes.html#deprecations\n",
      "  method='lar', copy_X=True, eps=np.finfo(np.float).eps,\n",
      "/opt/anaconda3/lib/python3.7/site-packages/sklearn/linear_model/least_angle.py:167: DeprecationWarning: `np.float` is a deprecated alias for the builtin `float`. To silence this warning, use `float` by itself. Doing this will not modify any behavior and is safe. If you specifically wanted the numpy scalar type, use `np.float64` here.\n",
      "Deprecated in NumPy 1.20; for more details and guidance: https://numpy.org/devdocs/release/1.20.0-notes.html#deprecations\n",
      "  method='lar', copy_X=True, eps=np.finfo(np.float).eps,\n",
      "/opt/anaconda3/lib/python3.7/site-packages/sklearn/linear_model/least_angle.py:284: DeprecationWarning: `np.float` is a deprecated alias for the builtin `float`. To silence this warning, use `float` by itself. Doing this will not modify any behavior and is safe. If you specifically wanted the numpy scalar type, use `np.float64` here.\n",
      "Deprecated in NumPy 1.20; for more details and guidance: https://numpy.org/devdocs/release/1.20.0-notes.html#deprecations\n",
      "  eps=np.finfo(np.float).eps, copy_Gram=True, verbose=0,\n",
      "/opt/anaconda3/lib/python3.7/site-packages/sklearn/linear_model/least_angle.py:862: DeprecationWarning: `np.float` is a deprecated alias for the builtin `float`. To silence this warning, use `float` by itself. Doing this will not modify any behavior and is safe. If you specifically wanted the numpy scalar type, use `np.float64` here.\n",
      "Deprecated in NumPy 1.20; for more details and guidance: https://numpy.org/devdocs/release/1.20.0-notes.html#deprecations\n",
      "  eps=np.finfo(np.float).eps, copy_X=True, fit_path=True,\n",
      "/opt/anaconda3/lib/python3.7/site-packages/sklearn/linear_model/least_angle.py:1101: DeprecationWarning: `np.float` is a deprecated alias for the builtin `float`. To silence this warning, use `float` by itself. Doing this will not modify any behavior and is safe. If you specifically wanted the numpy scalar type, use `np.float64` here.\n",
      "Deprecated in NumPy 1.20; for more details and guidance: https://numpy.org/devdocs/release/1.20.0-notes.html#deprecations\n",
      "  eps=np.finfo(np.float).eps, copy_X=True, fit_path=True,\n",
      "/opt/anaconda3/lib/python3.7/site-packages/sklearn/linear_model/least_angle.py:1127: DeprecationWarning: `np.float` is a deprecated alias for the builtin `float`. To silence this warning, use `float` by itself. Doing this will not modify any behavior and is safe. If you specifically wanted the numpy scalar type, use `np.float64` here.\n",
      "Deprecated in NumPy 1.20; for more details and guidance: https://numpy.org/devdocs/release/1.20.0-notes.html#deprecations\n",
      "  eps=np.finfo(np.float).eps, positive=False):\n",
      "/opt/anaconda3/lib/python3.7/site-packages/sklearn/linear_model/least_angle.py:1362: DeprecationWarning: `np.float` is a deprecated alias for the builtin `float`. To silence this warning, use `float` by itself. Doing this will not modify any behavior and is safe. If you specifically wanted the numpy scalar type, use `np.float64` here.\n",
      "Deprecated in NumPy 1.20; for more details and guidance: https://numpy.org/devdocs/release/1.20.0-notes.html#deprecations\n",
      "  max_n_alphas=1000, n_jobs=None, eps=np.finfo(np.float).eps,\n",
      "/opt/anaconda3/lib/python3.7/site-packages/sklearn/linear_model/least_angle.py:1602: DeprecationWarning: `np.float` is a deprecated alias for the builtin `float`. To silence this warning, use `float` by itself. Doing this will not modify any behavior and is safe. If you specifically wanted the numpy scalar type, use `np.float64` here.\n",
      "Deprecated in NumPy 1.20; for more details and guidance: https://numpy.org/devdocs/release/1.20.0-notes.html#deprecations\n",
      "  max_n_alphas=1000, n_jobs=None, eps=np.finfo(np.float).eps,\n",
      "/opt/anaconda3/lib/python3.7/site-packages/sklearn/linear_model/least_angle.py:1738: DeprecationWarning: `np.float` is a deprecated alias for the builtin `float`. To silence this warning, use `float` by itself. Doing this will not modify any behavior and is safe. If you specifically wanted the numpy scalar type, use `np.float64` here.\n",
      "Deprecated in NumPy 1.20; for more details and guidance: https://numpy.org/devdocs/release/1.20.0-notes.html#deprecations\n",
      "  eps=np.finfo(np.float).eps, copy_X=True, positive=False):\n",
      "/opt/anaconda3/lib/python3.7/site-packages/sklearn/decomposition/online_lda.py:29: DeprecationWarning: `np.float` is a deprecated alias for the builtin `float`. To silence this warning, use `float` by itself. Doing this will not modify any behavior and is safe. If you specifically wanted the numpy scalar type, use `np.float64` here.\n",
      "Deprecated in NumPy 1.20; for more details and guidance: https://numpy.org/devdocs/release/1.20.0-notes.html#deprecations\n",
      "  EPS = np.finfo(np.float).eps\n"
     ]
    }
   ],
   "source": [
    "#load all necessary libraries\n",
    "import numpy as np\n",
    "import seaborn\n",
    "import matplotlib.pyplot as plt\n",
    "import os\n",
    "from collections import Counter\n",
    "\n",
    "import string\n",
    "import nltk\n",
    "from nltk.corpus import stopwords\n",
    "from nltk.stem.porter import PorterStemmer\n",
    "\n",
    "from sklearn.preprocessing import StandardScaler\n",
    "from sklearn.decomposition import TruncatedSVD\n",
    "from sklearn.metrics.pairwise import cosine_similarity"
   ]
  },
  {
   "cell_type": "code",
   "execution_count": 2,
   "metadata": {},
   "outputs": [],
   "source": [
    "#read all abstract files from the 'abstracts' folder\n",
    "path = 'abstracts/'\n",
    "docs = []\n",
    "docs_name = []\n",
    "for fileName in os.listdir(path):\n",
    "    fileIn = open(path + fileName,'r')\n",
    "    docs.append(fileIn.read())\n",
    "    docs_name.append(fileName)\n",
    "    fileIn.close()"
   ]
  },
  {
   "cell_type": "code",
   "execution_count": 3,
   "metadata": {},
   "outputs": [
    {
     "name": "stdout",
     "output_type": "stream",
     "text": [
      "The list of file names reads:\n",
      "['ab13.txt', 'lp.txt', 'quasi.txt', 'yukawa.txt', 'poly.txt', 'pca.txt']\n",
      "\n",
      "As an example, the first abstract reads:\n",
      "In this Chapter we investigate  binary nucleation  of the AB13 crystal from a binary fluid phase of nearly-hard spheres. We calculate the nucleation barrier and nucleation rate as a function of supersaturation and draw a comparison with nucleation of  single component and other binary crystals. To follow the nucleation process, we employ a neural network to identify the AB13 phase from the binary fluid phase and the competing fcc crystal with single-particle resolution and significant accuracy in the case of bulk phases. We show that AB13 crystal nucleation  proceeds via a co-assembly process where large spheres and icosahedral small-sphere clusters simultaneously attach to the nucleus. Our results lend strong support for a classical pathway that is well-described by classical nucleation theory,  even though the binary fluid phase is highly structured and exhibit local regions of high bond orientational order.\n"
     ]
    }
   ],
   "source": [
    "print('The list of file names reads:')\n",
    "print(docs_name)\n",
    "print('\\nAs an example, the first abstract reads:')\n",
    "print(docs[0])"
   ]
  },
  {
   "cell_type": "markdown",
   "metadata": {},
   "source": [
    "**NOTE:** 'ab13.txt' and 'lp.txt' should be detected as similar documents, as they are both about binary crystal nucleation. The same holds for 'quasi.txt' and 'yukawa.txt', which are both on inverse design methods, and for 'poly.txt' and 'pca.txt', which are both about the crystal polymorphs of hard-sphere systems."
   ]
  },
  {
   "cell_type": "code",
   "execution_count": 4,
   "metadata": {},
   "outputs": [],
   "source": [
    "#initialise porter for the stemming operation\n",
    "porter = PorterStemmer()"
   ]
  },
  {
   "cell_type": "code",
   "execution_count": 5,
   "metadata": {},
   "outputs": [],
   "source": [
    "#define the function used to pre-process the corpus\n",
    "def pre_process(doc):\n",
    "    '''\n",
    "    Input:\n",
    "        doc: a document in the format of a single string\n",
    "    Output:\n",
    "        stemmed: the pre-processed document -- a list of tokens\n",
    "    '''\n",
    "    nopunct = \"\".join([char for char in doc if char not in string.punctuation])\n",
    "    lower = nopunct.lower()\n",
    "    tokens = nltk.word_tokenize(lower)\n",
    "    nostop = [word for word in tokens if word not in stopwords.words('english')]\n",
    "    stemmed = [porter.stem(word) for word in nostop]\n",
    "    \n",
    "    return stemmed"
   ]
  },
  {
   "cell_type": "code",
   "execution_count": 6,
   "metadata": {},
   "outputs": [],
   "source": [
    "#apply the pre-processing function to all documents\n",
    "pre_processed_docs = [pre_process(doc) for doc in docs]"
   ]
  },
  {
   "cell_type": "code",
   "execution_count": 7,
   "metadata": {},
   "outputs": [
    {
     "data": {
      "text/plain": [
       "['chapter', 'investig', 'binari', 'nucleat', 'ab13']"
      ]
     },
     "execution_count": 7,
     "metadata": {},
     "output_type": "execute_result"
    }
   ],
   "source": [
    "#print the first five pre-processed tokens of the first document -- ab13.txt\n",
    "pre_processed_docs[0][:5]"
   ]
  },
  {
   "cell_type": "markdown",
   "metadata": {},
   "source": [
    "Note how the words are converted to **lower case** (from Chapter to chapter), and how they have been **stemmed** (investig, binari, nucleat). Also, **stopwords** like 'in', 'this', and 'we', have been removed."
   ]
  },
  {
   "cell_type": "code",
   "execution_count": 8,
   "metadata": {},
   "outputs": [
    {
     "name": "stdout",
     "output_type": "stream",
     "text": [
      "Out of the 236 unique words of our corpus, keeping only the words that appear 2 times, we are left with a vocabulary of 31 words.\n"
     ]
    }
   ],
   "source": [
    "#build vocab of unique words for each document, keeping only those which appear at least word_count_threshold times\n",
    "vocab = []\n",
    "for doc in pre_processed_docs:\n",
    "    vocab.extend(doc)\n",
    "vocab_counter = Counter(vocab)\n",
    "\n",
    "word_count_threshold = 2\n",
    "vocab_filtered = [word for word in vocab_counter.keys() if vocab_counter[word]>word_count_threshold]\n",
    "print(\"Out of the \" + str(len(set(vocab))) + \" unique words of our corpus, keeping only the words that appear \" + str(word_count_threshold) + \" times, we are left with a vocabulary of \" + str(len(vocab_filtered)) + \" words.\")"
   ]
  },
  {
   "cell_type": "code",
   "execution_count": 9,
   "metadata": {},
   "outputs": [],
   "source": [
    "#store the number of samples (documents) and the number of features (unique words considered)\n",
    "n_docs = len(pre_processed_docs)\n",
    "n_features = len(vocab_filtered)"
   ]
  },
  {
   "cell_type": "code",
   "execution_count": 10,
   "metadata": {},
   "outputs": [],
   "source": [
    "#build a frequency vocabulary for each document, which will be needed in the tf-idf matrix calculation\n",
    "manydoc_dict = {}\n",
    "for word in vocab_filtered:\n",
    "    manydoc_dict[word] = 0\n",
    "    for this_vocab in pre_processed_docs:\n",
    "        if word in this_vocab:\n",
    "            manydoc_dict[word] += 1"
   ]
  },
  {
   "cell_type": "code",
   "execution_count": 11,
   "metadata": {},
   "outputs": [
    {
     "name": "stdout",
     "output_type": "stream",
     "text": [
      "The word \"binari\" appears in 2 documents out of 6\n",
      "The word \"chapter\" appears in 6 documents out of 6\n"
     ]
    }
   ],
   "source": [
    "print('The word \"binari\" appears in ' + str(manydoc_dict['binari']) + ' documents out of ' + str(n_docs))\n",
    "print('The word \"chapter\" appears in ' + str(manydoc_dict['chapter']) + ' documents out of ' + str(n_docs))"
   ]
  },
  {
   "cell_type": "code",
   "execution_count": 12,
   "metadata": {
    "scrolled": true
   },
   "outputs": [],
   "source": [
    "#function to build the term-frequency-inverse-document-frequency matrix from the pre-processed documents\n",
    "def tf_idf(pre_processed_docs):\n",
    "    '''\n",
    "    Input:\n",
    "        pre_processed_docs: a list of pre-processed documents, where each of them is a list of tokens\n",
    "    Output:\n",
    "        tf_idx_matrix: a (sparse) matrix of shape (n_docs,n_features) populated with tf-idf scores\n",
    "    '''\n",
    "    tf_idf_matrix = np.full((n_docs,n_features),0.0)\n",
    "    for doc_id in range(n_docs):\n",
    "        for word_id, word in enumerate(vocab_filtered):\n",
    "            word_count = pre_processed_docs[doc_id].count(word)\n",
    "            total_count = len(pre_processed_docs[doc_id])\n",
    "            idf = np.log(n_docs/manydoc_dict[word])\n",
    "            tf_idf_matrix[doc_id,word_id] = (float(word_count)/total_count)*idf\n",
    "    return tf_idf_matrix\n",
    "    \n",
    "tf_idf_matrix = tf_idf(pre_processed_docs)"
   ]
  },
  {
   "cell_type": "code",
   "execution_count": 13,
   "metadata": {},
   "outputs": [],
   "source": [
    "#scaling of the data so that it has zero-mean and unit variance\n",
    "sc = StandardScaler()\n",
    "scaled_tf_idf_matrix = sc.fit_transform(tf_idf_matrix)"
   ]
  },
  {
   "cell_type": "code",
   "execution_count": 14,
   "metadata": {},
   "outputs": [],
   "source": [
    "#single value decomposition applied to the scaled tf-idf matrix\n",
    "svd = TruncatedSVD(n_components=n_docs)\n",
    "svd.fit(scaled_tf_idf_matrix)\n",
    "svd_tf_idf_matrix = svd.transform(scaled_tf_idf_matrix)"
   ]
  },
  {
   "cell_type": "code",
   "execution_count": 15,
   "metadata": {},
   "outputs": [
    {
     "data": {
      "text/plain": [
       "Text(0.5, 1.0, 'Cumulative ratio of explained variance')"
      ]
     },
     "execution_count": 15,
     "metadata": {},
     "output_type": "execute_result"
    },
    {
     "data": {
      "image/png": "[encoded data removed]",
      "text/plain": [
       "<Figure size 1008x360 with 2 Axes>"
      ]
     },
     "metadata": {
      "needs_background": "light"
     },
     "output_type": "display_data"
    }
   ],
   "source": [
    "#in order to check the effective dimensionality of the system, we check the variance explained along each component\n",
    "hfont = {'family':'sans-serif','fontname':'Helvetica', 'size':14}\n",
    "\n",
    "x = np.arange(1,n_docs+1,1)\n",
    "cumulative_ratio = np.array([np.sum(svd.explained_variance_ratio_[0:i+1]) for i in range(n_docs)])\n",
    "\n",
    "fig, axs = plt.subplots(1, 2, figsize=(14,5))\n",
    "axs[0].plot(x, svd.explained_variance_ratio_, marker='o', color='g', lw=2)\n",
    "axs[0].set_title('Ratio of variance explained by each component', **hfont)\n",
    "axs[1].plot(x, cumulative_ratio, marker='o', color='g', lw=2)\n",
    "axs[1].set_title('Cumulative ratio of explained variance', **hfont)"
   ]
  },
  {
   "cell_type": "code",
   "execution_count": 16,
   "metadata": {},
   "outputs": [
    {
     "name": "stdout",
     "output_type": "stream",
     "text": [
      "The percentage of variance explained using 3 components is equal to 78.4%\n"
     ]
    }
   ],
   "source": [
    "#choose to only keep 3 components\n",
    "components_to_consider = 3\n",
    "print(\"The percentage of variance explained using \" + str(components_to_consider) + \" components is equal to \"+ str(round(cumulative_ratio[components_to_consider-1]*100,1))+\"%\")"
   ]
  },
  {
   "cell_type": "code",
   "execution_count": 17,
   "metadata": {},
   "outputs": [
    {
     "name": "stdout",
     "output_type": "stream",
     "text": [
      "0 ['interact', 'paramet', 'sphere', 'algorithm', 'fluid']\n",
      "1 ['lave', 'particl', 'colloid', 'polymorph', 'use']\n",
      "2 ['particl', 'fivefold', 'nucleat', 'studi', 'ab13']\n"
     ]
    }
   ],
   "source": [
    "#find the 5 words that contribute the most to each of the first 3 components, note that we are not taking into account the case in which two different words contribute with the same exact amount to a component\n",
    "def most_important_words(input_vec,vocab_filtered,n_words=5):\n",
    "    '''\n",
    "    Input:\n",
    "        input_vec: the component of which we want to find the most relevant words\n",
    "        vocab_filtered: the vocabulary used in this exercise\n",
    "        n_words: the number of most relevant words to find\n",
    "    Output:\n",
    "        words_list: a list containing the most relevant words which contribute to the input vector\n",
    "    '''\n",
    "    abs_vec = list(np.abs(input_vec))\n",
    "    ordered_vec = np.copy(abs_vec)\n",
    "    ordered_vec.sort()\n",
    "    values_to_find = ordered_vec[-n_words:]\n",
    "    index_list = [abs_vec.index(value) for value in values_to_find]\n",
    "    words_list = [vocab_filtered[index] for index in index_list]\n",
    "    return words_list\n",
    "\n",
    "\n",
    "for component in range(components_to_consider):\n",
    "    print(component,most_important_words(svd.components_[component],vocab_filtered))"
   ]
  },
  {
   "cell_type": "code",
   "execution_count": 18,
   "metadata": {
    "scrolled": false
   },
   "outputs": [
    {
     "name": "stderr",
     "output_type": "stream",
     "text": [
      "/opt/anaconda3/lib/python3.7/site-packages/sklearn/metrics/pairwise.py:56: DeprecationWarning: `np.float` is a deprecated alias for the builtin `float`. To silence this warning, use `float` by itself. Doing this will not modify any behavior and is safe. If you specifically wanted the numpy scalar type, use `np.float64` here.\n",
      "Deprecated in NumPy 1.20; for more details and guidance: https://numpy.org/devdocs/release/1.20.0-notes.html#deprecations\n",
      "  dtype = np.float\n"
     ]
    },
    {
     "data": {
      "text/plain": [
       "<AxesSubplot:>"
      ]
     },
     "execution_count": 18,
     "metadata": {},
     "output_type": "execute_result"
    },
    {
     "data": {
      "image/png": "[encoded data removed]",
      "text/plain": [
       "<Figure size 432x288 with 2 Axes>"
      ]
     },
     "metadata": {
      "needs_background": "light"
     },
     "output_type": "display_data"
    }
   ],
   "source": [
    "#compute the cosine similarity between the projections of the documents along the first three principal components and plot it as a heatmap\n",
    "svd_cos_sim = cosine_similarity(svd_tf_idf_matrix[:,:components_to_consider])\n",
    "seaborn.heatmap(svd_cos_sim, cmap='Greens')"
   ]
  },
  {
   "cell_type": "code",
   "execution_count": 19,
   "metadata": {
    "scrolled": true
   },
   "outputs": [
    {
     "name": "stdout",
     "output_type": "stream",
     "text": [
      "The most similar document to ab13.txt is lp.txt\n",
      "The most similar document to lp.txt is ab13.txt\n",
      "The most similar document to quasi.txt is yukawa.txt\n",
      "The most similar document to yukawa.txt is quasi.txt\n",
      "The most similar document to poly.txt is pca.txt\n",
      "The most similar document to pca.txt is poly.txt\n"
     ]
    }
   ],
   "source": [
    "#find the most similar abstract for each of the abstracts\n",
    "for i in range(n_docs):\n",
    "    vec = np.copy(svd_cos_sim[i])\n",
    "    vec.sort()\n",
    "    second_best = vec[-2]\n",
    "    most_similar_doc = np.argwhere(svd_cos_sim[i] == second_best)[0][0]\n",
    "    print(\"The most similar document to \" + docs_name[i] + \" is \" + docs_name[most_similar_doc])"
   ]
  },
  {
   "cell_type": "code",
   "execution_count": null,
   "metadata": {},
   "outputs": [],
   "source": []
  }
 ],
 "metadata": {
  "kernelspec": {
   "display_name": "Python 3",
   "language": "python",
   "name": "python3"
  },
  "language_info": {
   "codemirror_mode": {
    "name": "ipython",
    "version": 3
   },
   "file_extension": ".py",
   "mimetype": "text/x-python",
   "name": "python",
   "nbconvert_exporter": "python",
   "pygments_lexer": "ipython3",
   "version": "3.7.4"
  }
 },
 "nbformat": 4,
 "nbformat_minor": 2
}
